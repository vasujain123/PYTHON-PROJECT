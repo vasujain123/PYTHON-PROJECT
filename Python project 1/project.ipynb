{
 "metadata": {
  "language_info": {
   "codemirror_mode": {
    "name": "ipython",
    "version": 3
   },
   "file_extension": ".py",
   "mimetype": "text/x-python",
   "name": "python",
   "nbconvert_exporter": "python",
   "pygments_lexer": "ipython3",
   "version": "3.8.8"
  },
  "orig_nbformat": 4,
  "kernelspec": {
   "name": "python3",
   "display_name": "Python 3.8.8 64-bit ('base': conda)"
  },
  "interpreter": {
   "hash": "96a5b2c8615b6af4330dccc0a175f9e1be44a5aebebe076415aefa8805d772c0"
  }
 },
 "nbformat": 4,
 "nbformat_minor": 2,
 "cells": [
  {
   "cell_type": "code",
   "execution_count": 10,
   "source": [
    "#GameName: Snake Water Gun\r\n",
    "import random\r\n",
    "\r\n",
    "def gameWin( comp, you):\r\n",
    "# if two values are equal declare a tie  \r\n",
    "    if comp == you:\r\n",
    "        return None\r\n",
    "#check for all the possibilities when computer chose s\r\n",
    "\r\n",
    "    elif comp == 's':\r\n",
    "        if you =='w':\r\n",
    "            return False\r\n",
    "    elif you == 'g':\r\n",
    "            return True\r\n",
    "#check for all the possibilities when computer chose w\r\n",
    "    elif comp == 'w':\r\n",
    "        if you =='g':\r\n",
    "            return False\r\n",
    "        elif you == 's':\r\n",
    "            return True\r\n",
    "\r\n",
    "#check for all the possibilities when computer chose g\r\n",
    "    elif comp == 'g':\r\n",
    "        if you =='s':\r\n",
    "            return False\r\n",
    "        elif you == 'w':\r\n",
    "            return True\r\n",
    "\r\n",
    "print(\"Comp Turn : Snake(s) Water(w) or Gun(g) ?\")\r\n",
    "randNo = random.randint(1, 3)\r\n",
    "if randNo == 1:\r\n",
    "    comp = 's'\r\n",
    "elif randNo == 2:\r\n",
    "    comp = 'w'\r\n",
    "elif randNo == 3:\r\n",
    "    comp = 'g'\r\n",
    "\r\n",
    "\r\n",
    "\r\n",
    "you = input (\"Your Turn : Snake(s) Water(w) or Gun(g) ?\")\r\n",
    "a = gameWin(comp , you)\r\n",
    "\r\n",
    "print(f\"Computer chose {comp}\")\r\n",
    "print(f\"You chose {you}\")\r\n",
    "if a == None:\r\n",
    "    print(\"The game is a tie!!\")\r\n",
    "elif a: \r\n",
    "    print(\"YOU WIN!!\")\r\n",
    "else: \r\n",
    "    print(\"YOU LOSE!!\")"
   ],
   "outputs": [
    {
     "output_type": "stream",
     "name": "stdout",
     "text": [
      "Comp Turn : Snake(s) Water(w) or Gun(g) ?\n",
      "Computer chose g\n",
      "You chose w\n",
      "YOU WIN!!\n"
     ]
    }
   ],
   "metadata": {}
  },
  {
   "cell_type": "code",
   "execution_count": null,
   "source": [],
   "outputs": [],
   "metadata": {}
  },
  {
   "cell_type": "code",
   "execution_count": null,
   "source": [],
   "outputs": [],
   "metadata": {}
  },
  {
   "cell_type": "code",
   "execution_count": null,
   "source": [],
   "outputs": [],
   "metadata": {}
  }
 ]
}